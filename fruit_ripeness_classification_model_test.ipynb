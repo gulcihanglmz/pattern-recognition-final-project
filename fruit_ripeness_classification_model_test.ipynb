{
  "nbformat": 4,
  "nbformat_minor": 0,
  "metadata": {
    "colab": {
      "provenance": []
    },
    "kernelspec": {
      "name": "python3",
      "display_name": "Python 3"
    },
    "language_info": {
      "name": "python"
    }
  },
  "cells": [
    {
      "cell_type": "code",
      "execution_count": 1,
      "metadata": {
        "colab": {
          "base_uri": "https://localhost:8080/"
        },
        "id": "yIavHAL7Vj3S",
        "outputId": "fbe070eb-b40f-4e57-8b92-d132629e3217"
      },
      "outputs": [
        {
          "output_type": "stream",
          "name": "stdout",
          "text": [
            "Mounted at /content/gdrive\n"
          ]
        }
      ],
      "source": [
        "from google.colab import drive\n",
        "drive.mount('/content/gdrive')"
      ]
    },
    {
      "cell_type": "code",
      "source": [
        "\n",
        "%pip install ultralytics\n",
        "\n",
        "%pip install supervision\n",
        "\n",
        "from ultralytics import YOLO, checks, hub\n",
        "\n",
        "checks()\n",
        ""
      ],
      "metadata": {
        "colab": {
          "base_uri": "https://localhost:8080/"
        },
        "id": "9AqBQFNyWxFC",
        "outputId": "565a2310-100a-4af7-ec7d-b58cab1825de"
      },
      "execution_count": 2,
      "outputs": [
        {
          "output_type": "stream",
          "name": "stdout",
          "text": [
            "Ultralytics 8.3.31 🚀 Python-3.10.12 torch-2.5.0+cu121 CPU (Intel Xeon 2.20GHz)\n",
            "Setup complete ✅ (2 CPUs, 12.7 GB RAM, 32.2/107.7 GB disk)\n"
          ]
        }
      ]
    },
    {
      "cell_type": "code",
      "source": [
        "import cv2\n",
        "import os\n",
        "from pathlib import Path\n",
        "import shutil\n",
        "import supervision as sv\n",
        "from ultralytics import YOLO"
      ],
      "metadata": {
        "id": "nn3gi6FAWykg"
      },
      "execution_count": 6,
      "outputs": []
    },
    {
      "cell_type": "code",
      "source": [
        "\n",
        "byte_tracker = sv.ByteTrack()\n",
        "\n",
        "annotator = sv.BoxAnnotator()\n",
        "\n",
        "MODEL_PATH = \"/content/gdrive/MyDrive/fruit-yolov11s-e50-i250.pt\"\n",
        "\n",
        "SAVE_PATH = Path(\"/content/gdrive/MyDrive/Fruit_results1\")\n",
        "\n",
        "if SAVE_PATH.is_dir():\n",
        "  shutil.rmtree(SAVE_PATH)\n",
        "\n",
        "SAVE_PATH.mkdir(exist_ok=True, parents=True)"
      ],
      "metadata": {
        "id": "HNuAWikJWz6d"
      },
      "execution_count": 21,
      "outputs": []
    },
    {
      "cell_type": "code",
      "source": [
        "# Define the source and save path\n",
        "SOURCE = Path(\"/content/gdrive/MyDrive/test_images_fruit\")\n",
        "SAVE_PATH = Path(\"/content/gdrive/MyDrive/Fruit_results1\")\n",
        "SAVE_PATH.mkdir(parents=True, exist_ok=True)\n",
        "\n",
        "# Initialize frame counter\n",
        "frame_counter = 0\n",
        "\n",
        "# Iterate through images in the source folder\n",
        "for img_name in os.listdir(SOURCE):\n",
        "    img_path = SOURCE / img_name\n",
        "\n",
        "    # Read the image\n",
        "    image = cv2.imread(str(img_path))\n",
        "    if image is None:\n",
        "        print(f\"Error: Unable to read the image at {img_path}\")\n",
        "        continue  # Skip this image if it cannot be read\n",
        "\n",
        "    # Run inference on the image\n",
        "    results = model(img_path, imgsz=256, conf=0.7)\n",
        "\n",
        "    for result in results:\n",
        "        frame_counter += 1\n",
        "\n",
        "        # Get the highest confidence class\n",
        "        label = result.names[result.probs.top1]  # Get the label name for the top class\n",
        "        confidence = result.probs.top1conf.item()  # Get the confidence score for the top class\n",
        "\n",
        "        # Convert img_name to Path to use .stem\n",
        "        img_path_obj = Path(img_name)  # Convert string to Path object\n",
        "\n",
        "        # Save the classification result to a text file\n",
        "        with open(SAVE_PATH / f\"{img_path_obj.stem}_{frame_counter}.txt\", \"w\") as f:\n",
        "            f.write(f\"Label: {label}, Confidence: {confidence:.2f}\\n\")\n",
        "\n",
        "        # Save the image with the classification label\n",
        "        cv2.putText(image, f\"{label} ({confidence:.2f})\", (10, 30), cv2.FONT_HERSHEY_SIMPLEX, 1, (0, 255, 0), 2)\n",
        "        cv2.imwrite(str(SAVE_PATH / f\"{img_path_obj.stem}_{frame_counter}.jpg\"), image)"
      ],
      "metadata": {
        "id": "VbTQ2CLfW5Ca"
      },
      "execution_count": null,
      "outputs": []
    },
    {
      "cell_type": "code",
      "source": [
        "import shutil\n",
        "shutil.make_archive('/content/gdrive/MyDrive/results', 'zip', '/content/gdrive/MyDrive/results')\n",
        ""
      ],
      "metadata": {
        "id": "zR_YJnlvW5mC"
      },
      "execution_count": null,
      "outputs": []
    },
    {
      "cell_type": "code",
      "source": [
        "from google.colab import files\n",
        "\n",
        "files.download('/content/gdrive/MyDrive/results.zip')"
      ],
      "metadata": {
        "id": "ypLHwFXTW7QK"
      },
      "execution_count": null,
      "outputs": []
    }
  ]
}